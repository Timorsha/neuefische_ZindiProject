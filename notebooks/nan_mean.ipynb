{
 "metadata": {
  "language_info": {
   "codemirror_mode": {
    "name": "ipython",
    "version": 3
   },
   "file_extension": ".py",
   "mimetype": "text/x-python",
   "name": "python",
   "nbconvert_exporter": "python",
   "pygments_lexer": "ipython3",
   "version": "3.8.5"
  },
  "orig_nbformat": 4,
  "kernelspec": {
   "name": "python3",
   "display_name": "Python 3.8.5 64-bit ('3.8.5': pyenv)"
  },
  "interpreter": {
   "hash": "63528c8c2d958349343f62c1c1baad2371f03eabd23fe7ee66c4fc9a6db525bd"
  }
 },
 "nbformat": 4,
 "nbformat_minor": 2,
 "cells": [
  {
   "cell_type": "code",
   "execution_count": 17,
   "metadata": {},
   "outputs": [],
   "source": [
    "import pandas as pd \n",
    "import numpy as np \n",
    "from tqdm import tqdm\n",
    "import math\n",
    "import gc"
   ]
  },
  {
   "cell_type": "code",
   "execution_count": 18,
   "metadata": {},
   "outputs": [],
   "source": [
    "train=pd.read_csv('../data/Train.csv')\n",
    "test=pd.read_csv(\"../data/Test.csv\")"
   ]
  },
  {
   "cell_type": "code",
   "execution_count": 19,
   "metadata": {},
   "outputs": [
    {
     "output_type": "execute_result",
     "data": {
      "text/plain": [
       "              ID location                                               temp  \\\n",
       "0     ID_train_0        C  nan,nan,nan,nan,nan,nan,nan,nan,nan,nan,nan,na...   \n",
       "1     ID_train_1        D  22.53333333,21.71666667,20.83333333,20.9833333...   \n",
       "2    ID_train_10        A  28.975,27.95,29.6,26.425,22.09166667,21.775,22...   \n",
       "3   ID_train_100        A  22.96666667,24.26666667,25.275,25.625,25.86666...   \n",
       "4  ID_train_1000        A  21.875,21.575,21.525,21.43333333,20.50833333,1...   \n",
       "\n",
       "                                              precip  \\\n",
       "0  nan,nan,nan,nan,nan,nan,nan,nan,nan,nan,nan,na...   \n",
       "1  0.102,0.0,0.0,0.0,0.0,0.0,0.0,0.034,0.017,0.01...   \n",
       "2  0.0,0.0,0.0,0.102,0.136,0.0,0.0,2.16,1.276,0.0...   \n",
       "3  0.0,0.0,0.0,0.0,0.0,0.0,0.0,0.0,7.77,3.012,1.0...   \n",
       "4  0.0,0.0,0.0,0.0,0.0,0.0,0.0,0.0,0.0,0.0,0.0,0....   \n",
       "\n",
       "                                        rel_humidity  \\\n",
       "0  nan,nan,nan,nan,nan,nan,nan,nan,nan,nan,nan,na...   \n",
       "1  0.744583333,0.808083333,0.911166667,0.91633333...   \n",
       "2  0.573333333,0.597166667,0.5668333329999999,0.6...   \n",
       "3  0.8430833329999999,0.79025,0.7375,0.728,0.7049...   \n",
       "4  0.8564166670000001,0.874916667,0.879833333,0.8...   \n",
       "\n",
       "                                            wind_dir  \\\n",
       "0  nan,nan,nan,nan,nan,nan,nan,nan,nan,nan,nan,na...   \n",
       "1  281.6643101,89.15629262,81.96853891,291.018632...   \n",
       "2  nan,nan,nan,nan,nan,nan,nan,nan,nan,nan,nan,na...   \n",
       "3  300.0850574,293.6769595,294.5174647,301.921416...   \n",
       "4  21.83997432,17.05405341,89.26406044,123.585424...   \n",
       "\n",
       "                                            wind_spd  \\\n",
       "0  nan,nan,nan,nan,nan,nan,nan,nan,nan,nan,nan,na...   \n",
       "1  2.3775,1.126666667,0.700833333,0.3416666670000...   \n",
       "2  nan,nan,nan,nan,nan,nan,nan,nan,nan,nan,nan,na...   \n",
       "3  1.446666667,1.1925,1.324166667,1.5441666669999...   \n",
       "4  0.1975,0.244166667,0.411666667,0.56,0.5775,0.4...   \n",
       "\n",
       "                                         atmos_press      target  \n",
       "0  nan,nan,nan,nan,nan,nan,nan,nan,nan,nan,nan,na...   45.126304  \n",
       "1  90.32,90.3775,90.44083333,90.4725,90.45416667,...   79.131702  \n",
       "2  88.55166667,88.46416667,88.31916667,88.24,88.2...   32.661304  \n",
       "3  88.615,88.53083333,88.4,88.27166667,88.2075,88...   53.850238  \n",
       "4  88.55666667,88.64083333,88.65833333,88.6475,88...  177.418750  "
      ],
      "text/html": "<div>\n<style scoped>\n    .dataframe tbody tr th:only-of-type {\n        vertical-align: middle;\n    }\n\n    .dataframe tbody tr th {\n        vertical-align: top;\n    }\n\n    .dataframe thead th {\n        text-align: right;\n    }\n</style>\n<table border=\"1\" class=\"dataframe\">\n  <thead>\n    <tr style=\"text-align: right;\">\n      <th></th>\n      <th>ID</th>\n      <th>location</th>\n      <th>temp</th>\n      <th>precip</th>\n      <th>rel_humidity</th>\n      <th>wind_dir</th>\n      <th>wind_spd</th>\n      <th>atmos_press</th>\n      <th>target</th>\n    </tr>\n  </thead>\n  <tbody>\n    <tr>\n      <th>0</th>\n      <td>ID_train_0</td>\n      <td>C</td>\n      <td>nan,nan,nan,nan,nan,nan,nan,nan,nan,nan,nan,na...</td>\n      <td>nan,nan,nan,nan,nan,nan,nan,nan,nan,nan,nan,na...</td>\n      <td>nan,nan,nan,nan,nan,nan,nan,nan,nan,nan,nan,na...</td>\n      <td>nan,nan,nan,nan,nan,nan,nan,nan,nan,nan,nan,na...</td>\n      <td>nan,nan,nan,nan,nan,nan,nan,nan,nan,nan,nan,na...</td>\n      <td>nan,nan,nan,nan,nan,nan,nan,nan,nan,nan,nan,na...</td>\n      <td>45.126304</td>\n    </tr>\n    <tr>\n      <th>1</th>\n      <td>ID_train_1</td>\n      <td>D</td>\n      <td>22.53333333,21.71666667,20.83333333,20.9833333...</td>\n      <td>0.102,0.0,0.0,0.0,0.0,0.0,0.0,0.034,0.017,0.01...</td>\n      <td>0.744583333,0.808083333,0.911166667,0.91633333...</td>\n      <td>281.6643101,89.15629262,81.96853891,291.018632...</td>\n      <td>2.3775,1.126666667,0.700833333,0.3416666670000...</td>\n      <td>90.32,90.3775,90.44083333,90.4725,90.45416667,...</td>\n      <td>79.131702</td>\n    </tr>\n    <tr>\n      <th>2</th>\n      <td>ID_train_10</td>\n      <td>A</td>\n      <td>28.975,27.95,29.6,26.425,22.09166667,21.775,22...</td>\n      <td>0.0,0.0,0.0,0.102,0.136,0.0,0.0,2.16,1.276,0.0...</td>\n      <td>0.573333333,0.597166667,0.5668333329999999,0.6...</td>\n      <td>nan,nan,nan,nan,nan,nan,nan,nan,nan,nan,nan,na...</td>\n      <td>nan,nan,nan,nan,nan,nan,nan,nan,nan,nan,nan,na...</td>\n      <td>88.55166667,88.46416667,88.31916667,88.24,88.2...</td>\n      <td>32.661304</td>\n    </tr>\n    <tr>\n      <th>3</th>\n      <td>ID_train_100</td>\n      <td>A</td>\n      <td>22.96666667,24.26666667,25.275,25.625,25.86666...</td>\n      <td>0.0,0.0,0.0,0.0,0.0,0.0,0.0,0.0,7.77,3.012,1.0...</td>\n      <td>0.8430833329999999,0.79025,0.7375,0.728,0.7049...</td>\n      <td>300.0850574,293.6769595,294.5174647,301.921416...</td>\n      <td>1.446666667,1.1925,1.324166667,1.5441666669999...</td>\n      <td>88.615,88.53083333,88.4,88.27166667,88.2075,88...</td>\n      <td>53.850238</td>\n    </tr>\n    <tr>\n      <th>4</th>\n      <td>ID_train_1000</td>\n      <td>A</td>\n      <td>21.875,21.575,21.525,21.43333333,20.50833333,1...</td>\n      <td>0.0,0.0,0.0,0.0,0.0,0.0,0.0,0.0,0.0,0.0,0.0,0....</td>\n      <td>0.8564166670000001,0.874916667,0.879833333,0.8...</td>\n      <td>21.83997432,17.05405341,89.26406044,123.585424...</td>\n      <td>0.1975,0.244166667,0.411666667,0.56,0.5775,0.4...</td>\n      <td>88.55666667,88.64083333,88.65833333,88.6475,88...</td>\n      <td>177.418750</td>\n    </tr>\n  </tbody>\n</table>\n</div>"
     },
     "metadata": {},
     "execution_count": 19
    }
   ],
   "source": [
    "train.head()"
   ]
  },
  {
   "cell_type": "code",
   "execution_count": 20,
   "metadata": {},
   "outputs": [],
   "source": [
    "# covert features  fron string to List of values \n",
    "def replace_nan(x):\n",
    "    if x==\" \":\n",
    "        return np.nan\n",
    "    else :\n",
    "        return float(x)\n",
    "features=[\"temp\",\"precip\",\"rel_humidity\",\"wind_dir\",\"wind_spd\",\"atmos_press\"]\n",
    "for feature in features : \n",
    "    train[feature]=train[feature].apply(lambda x: [ replace_nan(X) for X in x.replace(\"nan\",\" \").split(\",\")])\n",
    "    test[feature]=test[feature].apply(lambda x: [ replace_nan(X)  for X in x.replace(\"nan\",\" \").split(\",\")])  "
   ]
  },
  {
   "cell_type": "code",
   "execution_count": 21,
   "metadata": {},
   "outputs": [],
   "source": [
    "# precip NaN -> 0\n",
    "import math\n",
    "\n",
    "def replace_nan_zero(x):\n",
    "    if math.isnan(x):\n",
    "        return 0.0\n",
    "    else :\n",
    "        return float(x)\n",
    "features_zero=[\"precip\"]\n",
    "for feature in features_zero : \n",
    "    train[feature]=train[feature].apply(lambda x: [replace_nan_zero(X) for X in x])\n",
    "    test[feature]=test[feature].apply(lambda x: [replace_nan_zero(X)  for X in x])"
   ]
  },
  {
   "cell_type": "code",
   "execution_count": 23,
   "metadata": {},
   "outputs": [],
   "source": [
    "def trafo(x):\n",
    "    x_trafo = []\n",
    "    for value in x:\n",
    "        if not math.isnan(value):\n",
    "            x_trafo.append(value)\n",
    "    return x_trafo"
   ]
  },
  {
   "cell_type": "code",
   "execution_count": 24,
   "metadata": {},
   "outputs": [],
   "source": [
    "import math\n",
    "\n",
    "def replace_nan_mean(x,x_list):\n",
    "    if math.isnan(x):\n",
    "        return np.mean(np.array(trafo(x_list)))\n",
    "    else :\n",
    "        return float(x)\n",
    "features_zero=[\"temp\",\"rel_humidity\",\"wind_dir\",\"wind_spd\",\"atmos_press\"]\n",
    "for feature in features_zero : \n",
    "    train[feature]=train[feature].apply(lambda x: [replace_nan_mean(X,x) for X in x])\n",
    "    test[feature]=test[feature].apply(lambda x: [replace_nan_mean(X,x)  for X in x])"
   ]
  },
  {
   "cell_type": "code",
   "execution_count": 25,
   "metadata": {},
   "outputs": [
    {
     "output_type": "execute_result",
     "data": {
      "text/plain": [
       "              ID location                                               temp  \\\n",
       "0     ID_train_0        C  [22.299526514375003, 22.299526514375003, 22.29...   \n",
       "1     ID_train_1        D  [22.53333333, 21.71666667, 20.83333333, 20.983...   \n",
       "2    ID_train_10        A  [28.975, 27.95, 29.6, 26.425, 22.09166667, 21....   \n",
       "3   ID_train_100        A  [22.96666667, 24.26666667, 25.275, 25.625, 25....   \n",
       "4  ID_train_1000        A  [21.875, 21.575, 21.525, 21.43333333, 20.50833...   \n",
       "\n",
       "                                              precip  \\\n",
       "0  [0.0, 0.0, 0.0, 0.0, 0.0, 0.0, 0.0, 0.0, 0.0, ...   \n",
       "1  [0.102, 0.0, 0.0, 0.0, 0.0, 0.0, 0.0, 0.034, 0...   \n",
       "2  [0.0, 0.0, 0.0, 0.102, 0.136, 0.0, 0.0, 2.16, ...   \n",
       "3  [0.0, 0.0, 0.0, 0.0, 0.0, 0.0, 0.0, 0.0, 7.77,...   \n",
       "4  [0.0, 0.0, 0.0, 0.0, 0.0, 0.0, 0.0, 0.0, 0.0, ...   \n",
       "\n",
       "                                        rel_humidity  \\\n",
       "0  [0.758530303, 0.758530303, 0.758530303, 0.7585...   \n",
       "1  [0.744583333, 0.808083333, 0.911166667, 0.9163...   \n",
       "2  [0.573333333, 0.597166667, 0.5668333329999999,...   \n",
       "3  [0.8430833329999999, 0.79025, 0.7375, 0.728, 0...   \n",
       "4  [0.8564166670000001, 0.874916667, 0.879833333,...   \n",
       "\n",
       "                                            wind_dir  \\\n",
       "0  [209.57465462812502, 209.57465462812502, 209.5...   \n",
       "1  [281.6643101, 89.15629262, 81.96853891, 291.01...   \n",
       "2  [201.37321071165331, 201.37321071165331, 201.3...   \n",
       "3  [300.0850574, 293.6769595, 294.5174647, 301.92...   \n",
       "4  [21.83997432, 17.05405341, 89.26406044, 123.58...   \n",
       "\n",
       "                                            wind_spd  \\\n",
       "0  [0.677348484875, 0.677348484875, 0.67734848487...   \n",
       "1  [2.3775, 1.126666667, 0.700833333, 0.341666667...   \n",
       "2  [1.0386555556, 1.0386555556, 1.0386555556, 1.0...   \n",
       "3  [1.446666667, 1.1925, 1.324166667, 1.544166666...   \n",
       "4  [0.1975, 0.244166667, 0.411666667, 0.56, 0.577...   \n",
       "\n",
       "                                         atmos_press      target  \n",
       "0  [87.752433711875, 87.752433711875, 87.75243371...   45.126304  \n",
       "1  [90.32, 90.3775, 90.44083333, 90.4725, 90.4541...   79.131702  \n",
       "2  [88.55166667, 88.46416667, 88.31916667, 88.24,...   32.661304  \n",
       "3  [88.615, 88.53083333, 88.4, 88.27166667, 88.20...   53.850238  \n",
       "4  [88.55666667, 88.64083333, 88.65833333, 88.647...  177.418750  "
      ],
      "text/html": "<div>\n<style scoped>\n    .dataframe tbody tr th:only-of-type {\n        vertical-align: middle;\n    }\n\n    .dataframe tbody tr th {\n        vertical-align: top;\n    }\n\n    .dataframe thead th {\n        text-align: right;\n    }\n</style>\n<table border=\"1\" class=\"dataframe\">\n  <thead>\n    <tr style=\"text-align: right;\">\n      <th></th>\n      <th>ID</th>\n      <th>location</th>\n      <th>temp</th>\n      <th>precip</th>\n      <th>rel_humidity</th>\n      <th>wind_dir</th>\n      <th>wind_spd</th>\n      <th>atmos_press</th>\n      <th>target</th>\n    </tr>\n  </thead>\n  <tbody>\n    <tr>\n      <th>0</th>\n      <td>ID_train_0</td>\n      <td>C</td>\n      <td>[22.299526514375003, 22.299526514375003, 22.29...</td>\n      <td>[0.0, 0.0, 0.0, 0.0, 0.0, 0.0, 0.0, 0.0, 0.0, ...</td>\n      <td>[0.758530303, 0.758530303, 0.758530303, 0.7585...</td>\n      <td>[209.57465462812502, 209.57465462812502, 209.5...</td>\n      <td>[0.677348484875, 0.677348484875, 0.67734848487...</td>\n      <td>[87.752433711875, 87.752433711875, 87.75243371...</td>\n      <td>45.126304</td>\n    </tr>\n    <tr>\n      <th>1</th>\n      <td>ID_train_1</td>\n      <td>D</td>\n      <td>[22.53333333, 21.71666667, 20.83333333, 20.983...</td>\n      <td>[0.102, 0.0, 0.0, 0.0, 0.0, 0.0, 0.0, 0.034, 0...</td>\n      <td>[0.744583333, 0.808083333, 0.911166667, 0.9163...</td>\n      <td>[281.6643101, 89.15629262, 81.96853891, 291.01...</td>\n      <td>[2.3775, 1.126666667, 0.700833333, 0.341666667...</td>\n      <td>[90.32, 90.3775, 90.44083333, 90.4725, 90.4541...</td>\n      <td>79.131702</td>\n    </tr>\n    <tr>\n      <th>2</th>\n      <td>ID_train_10</td>\n      <td>A</td>\n      <td>[28.975, 27.95, 29.6, 26.425, 22.09166667, 21....</td>\n      <td>[0.0, 0.0, 0.0, 0.102, 0.136, 0.0, 0.0, 2.16, ...</td>\n      <td>[0.573333333, 0.597166667, 0.5668333329999999,...</td>\n      <td>[201.37321071165331, 201.37321071165331, 201.3...</td>\n      <td>[1.0386555556, 1.0386555556, 1.0386555556, 1.0...</td>\n      <td>[88.55166667, 88.46416667, 88.31916667, 88.24,...</td>\n      <td>32.661304</td>\n    </tr>\n    <tr>\n      <th>3</th>\n      <td>ID_train_100</td>\n      <td>A</td>\n      <td>[22.96666667, 24.26666667, 25.275, 25.625, 25....</td>\n      <td>[0.0, 0.0, 0.0, 0.0, 0.0, 0.0, 0.0, 0.0, 7.77,...</td>\n      <td>[0.8430833329999999, 0.79025, 0.7375, 0.728, 0...</td>\n      <td>[300.0850574, 293.6769595, 294.5174647, 301.92...</td>\n      <td>[1.446666667, 1.1925, 1.324166667, 1.544166666...</td>\n      <td>[88.615, 88.53083333, 88.4, 88.27166667, 88.20...</td>\n      <td>53.850238</td>\n    </tr>\n    <tr>\n      <th>4</th>\n      <td>ID_train_1000</td>\n      <td>A</td>\n      <td>[21.875, 21.575, 21.525, 21.43333333, 20.50833...</td>\n      <td>[0.0, 0.0, 0.0, 0.0, 0.0, 0.0, 0.0, 0.0, 0.0, ...</td>\n      <td>[0.8564166670000001, 0.874916667, 0.879833333,...</td>\n      <td>[21.83997432, 17.05405341, 89.26406044, 123.58...</td>\n      <td>[0.1975, 0.244166667, 0.411666667, 0.56, 0.577...</td>\n      <td>[88.55666667, 88.64083333, 88.65833333, 88.647...</td>\n      <td>177.418750</td>\n    </tr>\n  </tbody>\n</table>\n</div>"
     },
     "metadata": {},
     "execution_count": 25
    }
   ],
   "source": [
    "train.head()"
   ]
  },
  {
   "source": [
    "### Features engineering part"
   ],
   "cell_type": "markdown",
   "metadata": {}
  },
  {
   "cell_type": "code",
   "execution_count": 26,
   "metadata": {},
   "outputs": [],
   "source": [
    "def percentile(n):\n",
    "    def percentile_(x):\n",
    "        return np.percentile(x, n)\n",
    "    percentile_.__name__ = 'percentile_%s' % n\n",
    "    return percentile_"
   ]
  },
  {
   "cell_type": "code",
   "execution_count": 27,
   "metadata": {},
   "outputs": [],
   "source": [
    "def aggregate_features(x,col_name):\n",
    "    x[\"max_\"+col_name]=x[col_name].apply(np.max)\n",
    "    x[\"min_\"+col_name]=x[col_name].apply(np.min)\n",
    "    x[\"mean_\"+col_name]=x[col_name].apply(np.mean)\n",
    "    x[\"std_\"+col_name]=x[col_name].apply(np.std)\n",
    "    x[\"var_\"+col_name]=x[col_name].apply(np.var)\n",
    "    x[\"median_\"+col_name]=x[col_name].apply(np.median)\n",
    "    x[\"ptp_\"+col_name]=x[col_name].apply(np.ptp)\n",
    "    x[\"p1_\"+col_name]=x[col_name].apply(percentile(1))\n",
    "    x[\"p5_\"+col_name]=x[col_name].apply(percentile(5))\n",
    "    x[\"p10_\"+col_name]=x[col_name].apply(percentile(10))\n",
    "    x[\"p20_\"+col_name]=x[col_name].apply(percentile(20))\n",
    "    x[\"p30_\"+col_name]=x[col_name].apply(percentile(30))\n",
    "    x[\"p40_\"+col_name]=x[col_name].apply(percentile(40))\n",
    "    x[\"p60_\"+col_name]=x[col_name].apply(percentile(60))\n",
    "    x[\"p70_\"+col_name]=x[col_name].apply(percentile(70))\n",
    "    x[\"p80_\"+col_name]=x[col_name].apply(percentile(80))\n",
    "    x[\"p90_\"+col_name]=x[col_name].apply(percentile(90))\n",
    "    x[\"p95_\"+col_name]=x[col_name].apply(percentile(95))\n",
    "    x[\"p99_\"+col_name]=x[col_name].apply(percentile(99))\n",
    "    return x  \n",
    "def remove_nan_values(x):\n",
    "    return [e for e in x if not math.isnan(e)]\n"
   ]
  },
  {
   "cell_type": "code",
   "execution_count": 28,
   "metadata": {},
   "outputs": [
    {
     "output_type": "stream",
     "name": "stderr",
     "text": [
      "100%|██████████| 6/6 [02:15<00:00, 22.57s/it]\n"
     ]
    }
   ],
   "source": [
    "features=[\"temp\",\"precip\",\"rel_humidity\",\"wind_dir\",\"wind_spd\",\"atmos_press\"]\n",
    "for col_name in tqdm(features):\n",
    "    train=aggregate_features(train,col_name)"
   ]
  },
  {
   "cell_type": "code",
   "execution_count": 29,
   "metadata": {},
   "outputs": [],
   "source": [
    "for x in range(121):\n",
    "    train[\"temp\"+ str(x)] = train.temp.str[x]\n",
    "    train[\"precip\"+ str(x)] = train.precip.str[x]\n",
    "    train[\"rel_humidity\"+ str(x)] = train.rel_humidity.str[x]\n",
    "    train[\"wind_dir\"+ str(x)] = train.wind_dir.str[x]\n",
    "    train[\"windspeed\"+ str(x)] = train.wind_spd.str[x]\n",
    "    train[\"atmospherepressure\"+ str(x)] = train.atmos_press.str[x]"
   ]
  },
  {
   "cell_type": "code",
   "execution_count": 30,
   "metadata": {},
   "outputs": [],
   "source": [
    "train.drop(features,1,inplace=True)"
   ]
  },
  {
   "cell_type": "code",
   "execution_count": 31,
   "metadata": {},
   "outputs": [
    {
     "output_type": "execute_result",
     "data": {
      "text/plain": [
       "              ID location      target   max_temp   min_temp  mean_temp  \\\n",
       "0     ID_train_0        C   45.126304  27.208333  19.275000  22.299527   \n",
       "1     ID_train_1        D   79.131702  33.616667  17.983333  24.679063   \n",
       "2    ID_train_10        A   32.661304  31.841667  18.458333  24.112317   \n",
       "3   ID_train_100        A   53.850238  27.491667  16.941667  20.845273   \n",
       "4  ID_train_1000        A  177.418750  28.750000  17.525000  21.870732   \n",
       "\n",
       "   std_temp   var_temp  median_temp   ptp_temp  ...  rel_humidity119  \\\n",
       "0  0.943277   0.889771    22.299527   7.933333  ...         0.881500   \n",
       "1  4.266955  18.206903    23.791667  15.633333  ...         0.649250   \n",
       "2  3.760739  14.143161    23.308333  13.383333  ...         0.459583   \n",
       "3  3.080140   9.487259    19.541667  10.550000  ...         0.766417   \n",
       "4  1.636630   2.678557    21.870732  11.225000  ...         0.785134   \n",
       "\n",
       "   wind_dir119  windspeed119  atmospherepressure119    temp120  precip120  \\\n",
       "0   329.178292      0.673333              87.750833  19.583333      0.000   \n",
       "1    73.528733      1.475833              90.439167  21.450000      0.561   \n",
       "2   209.603600      1.481667              88.475833  30.091667      0.000   \n",
       "3   335.844256      1.367500              88.490833  24.641667      0.000   \n",
       "4   181.944779      0.729763              88.538104  21.870732      0.000   \n",
       "\n",
       "   rel_humidity120  wind_dir120  windspeed120  atmospherepressure120  \n",
       "0         0.874583   325.478885      0.855000              87.768333  \n",
       "1         0.797333   296.967254      1.019167              90.529167  \n",
       "2         0.437917   250.105258      1.746667              88.415833  \n",
       "3         0.719667   331.118658      1.852500              88.465833  \n",
       "4         0.785134   181.944779      0.729763              88.538104  \n",
       "\n",
       "[5 rows x 843 columns]"
      ],
      "text/html": "<div>\n<style scoped>\n    .dataframe tbody tr th:only-of-type {\n        vertical-align: middle;\n    }\n\n    .dataframe tbody tr th {\n        vertical-align: top;\n    }\n\n    .dataframe thead th {\n        text-align: right;\n    }\n</style>\n<table border=\"1\" class=\"dataframe\">\n  <thead>\n    <tr style=\"text-align: right;\">\n      <th></th>\n      <th>ID</th>\n      <th>location</th>\n      <th>target</th>\n      <th>max_temp</th>\n      <th>min_temp</th>\n      <th>mean_temp</th>\n      <th>std_temp</th>\n      <th>var_temp</th>\n      <th>median_temp</th>\n      <th>ptp_temp</th>\n      <th>...</th>\n      <th>rel_humidity119</th>\n      <th>wind_dir119</th>\n      <th>windspeed119</th>\n      <th>atmospherepressure119</th>\n      <th>temp120</th>\n      <th>precip120</th>\n      <th>rel_humidity120</th>\n      <th>wind_dir120</th>\n      <th>windspeed120</th>\n      <th>atmospherepressure120</th>\n    </tr>\n  </thead>\n  <tbody>\n    <tr>\n      <th>0</th>\n      <td>ID_train_0</td>\n      <td>C</td>\n      <td>45.126304</td>\n      <td>27.208333</td>\n      <td>19.275000</td>\n      <td>22.299527</td>\n      <td>0.943277</td>\n      <td>0.889771</td>\n      <td>22.299527</td>\n      <td>7.933333</td>\n      <td>...</td>\n      <td>0.881500</td>\n      <td>329.178292</td>\n      <td>0.673333</td>\n      <td>87.750833</td>\n      <td>19.583333</td>\n      <td>0.000</td>\n      <td>0.874583</td>\n      <td>325.478885</td>\n      <td>0.855000</td>\n      <td>87.768333</td>\n    </tr>\n    <tr>\n      <th>1</th>\n      <td>ID_train_1</td>\n      <td>D</td>\n      <td>79.131702</td>\n      <td>33.616667</td>\n      <td>17.983333</td>\n      <td>24.679063</td>\n      <td>4.266955</td>\n      <td>18.206903</td>\n      <td>23.791667</td>\n      <td>15.633333</td>\n      <td>...</td>\n      <td>0.649250</td>\n      <td>73.528733</td>\n      <td>1.475833</td>\n      <td>90.439167</td>\n      <td>21.450000</td>\n      <td>0.561</td>\n      <td>0.797333</td>\n      <td>296.967254</td>\n      <td>1.019167</td>\n      <td>90.529167</td>\n    </tr>\n    <tr>\n      <th>2</th>\n      <td>ID_train_10</td>\n      <td>A</td>\n      <td>32.661304</td>\n      <td>31.841667</td>\n      <td>18.458333</td>\n      <td>24.112317</td>\n      <td>3.760739</td>\n      <td>14.143161</td>\n      <td>23.308333</td>\n      <td>13.383333</td>\n      <td>...</td>\n      <td>0.459583</td>\n      <td>209.603600</td>\n      <td>1.481667</td>\n      <td>88.475833</td>\n      <td>30.091667</td>\n      <td>0.000</td>\n      <td>0.437917</td>\n      <td>250.105258</td>\n      <td>1.746667</td>\n      <td>88.415833</td>\n    </tr>\n    <tr>\n      <th>3</th>\n      <td>ID_train_100</td>\n      <td>A</td>\n      <td>53.850238</td>\n      <td>27.491667</td>\n      <td>16.941667</td>\n      <td>20.845273</td>\n      <td>3.080140</td>\n      <td>9.487259</td>\n      <td>19.541667</td>\n      <td>10.550000</td>\n      <td>...</td>\n      <td>0.766417</td>\n      <td>335.844256</td>\n      <td>1.367500</td>\n      <td>88.490833</td>\n      <td>24.641667</td>\n      <td>0.000</td>\n      <td>0.719667</td>\n      <td>331.118658</td>\n      <td>1.852500</td>\n      <td>88.465833</td>\n    </tr>\n    <tr>\n      <th>4</th>\n      <td>ID_train_1000</td>\n      <td>A</td>\n      <td>177.418750</td>\n      <td>28.750000</td>\n      <td>17.525000</td>\n      <td>21.870732</td>\n      <td>1.636630</td>\n      <td>2.678557</td>\n      <td>21.870732</td>\n      <td>11.225000</td>\n      <td>...</td>\n      <td>0.785134</td>\n      <td>181.944779</td>\n      <td>0.729763</td>\n      <td>88.538104</td>\n      <td>21.870732</td>\n      <td>0.000</td>\n      <td>0.785134</td>\n      <td>181.944779</td>\n      <td>0.729763</td>\n      <td>88.538104</td>\n    </tr>\n  </tbody>\n</table>\n<p>5 rows × 843 columns</p>\n</div>"
     },
     "metadata": {},
     "execution_count": 31
    }
   ],
   "source": [
    "train.head()"
   ]
  },
  {
   "cell_type": "code",
   "execution_count": 32,
   "metadata": {},
   "outputs": [],
   "source": [
    "train.to_csv('../data/train_means.csv')"
   ]
  },
  {
   "source": [
    "### end feature engineering"
   ],
   "cell_type": "markdown",
   "metadata": {}
  }
 ]
}